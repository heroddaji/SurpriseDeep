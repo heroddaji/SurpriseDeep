{
 "cells": [
  {
   "cell_type": "code",
   "execution_count": 1,
   "metadata": {},
   "outputs": [],
   "source": [
    "from surprise import SVD\n",
    "from surprise import Dataset\n",
    "from surprise import NormalPredictor\n",
    "from surprise import BaselineOnly\n",
    "from surprise import KNNBasic\n",
    "from surprise import *\n",
    "\n",
    "from surprise.model_selection import cross_validate\n",
    "\n",
    "# from drecsys import DataReader\n",
    "# from drecsys import AlgoBaseline\n",
    "# from drecsys import cross_validation"
   ]
  },
  {
   "cell_type": "code",
   "execution_count": 2,
   "metadata": {},
   "outputs": [],
   "source": [
    "data = Dataset.load_builtin('ml-100k')"
   ]
  },
  {
   "cell_type": "code",
   "execution_count": 3,
   "metadata": {},
   "outputs": [
    {
     "name": "stdout",
     "output_type": "stream",
     "text": [
      "Evaluating RMSE, MAE of algorithm NormalPredictor on 5 split(s).\n",
      "\n",
      "                  Fold 1  Fold 2  Fold 3  Fold 4  Fold 5  Mean    Std     \n",
      "RMSE (testset)    1.5145  1.5121  1.5287  1.5159  1.5147  1.5172  0.0059  \n",
      "MAE (testset)     1.2147  1.2119  1.2329  1.2158  1.2141  1.2179  0.0076  \n",
      "Fit time          0.09    0.11    0.10    0.10    0.11    0.10    0.01    \n",
      "Test time         0.12    0.12    0.09    0.12    0.09    0.11    0.02    \n"
     ]
    },
    {
     "data": {
      "text/plain": [
       "{'test_rmse': array([1.51453714, 1.51211401, 1.52873117, 1.51587609, 1.51465075]),\n",
       " 'test_mae': array([1.21472733, 1.21185342, 1.23289692, 1.21583029, 1.21414363]),\n",
       " 'fit_time': (0.0867607593536377,\n",
       "  0.10994863510131836,\n",
       "  0.10193514823913574,\n",
       "  0.10097932815551758,\n",
       "  0.11091303825378418),\n",
       " 'test_time': (0.12264394760131836,\n",
       "  0.12368059158325195,\n",
       "  0.09275412559509277,\n",
       "  0.1211385726928711,\n",
       "  0.08580470085144043)}"
      ]
     },
     "execution_count": 3,
     "metadata": {},
     "output_type": "execute_result"
    }
   ],
   "source": [
    "algo_normal = NormalPredictor()\n",
    "cross_validate(algo_normal, data, measures=['RMSE', 'MAE'], cv=5, verbose=True)"
   ]
  },
  {
   "cell_type": "code",
   "execution_count": 8,
   "metadata": {},
   "outputs": [
    {
     "name": "stdout",
     "output_type": "stream",
     "text": [
      "Evaluating RMSE, MAE of algorithm SVD on 5 split(s).\n",
      "\n",
      "                  Fold 1  Fold 2  Fold 3  Fold 4  Fold 5  Mean    Std     \n",
      "RMSE (testset)    0.9434  0.9392  0.9353  0.9339  0.9315  0.9366  0.0042  \n",
      "MAE (testset)     0.7414  0.7391  0.7376  0.7387  0.7337  0.7381  0.0025  \n",
      "Fit time          4.05    4.09    4.02    4.11    3.92    4.04    0.07    \n",
      "Test time         0.16    0.09    0.14    0.11    0.13    0.13    0.02    \n"
     ]
    },
    {
     "data": {
      "text/plain": [
       "{'test_rmse': array([0.94336671, 0.9392426 , 0.93525188, 0.93385207, 0.93147556]),\n",
       " 'test_mae': array([0.74136107, 0.73905987, 0.73764648, 0.73871781, 0.73367493]),\n",
       " 'fit_time': (4.053625822067261,\n",
       "  4.086043834686279,\n",
       "  4.019781589508057,\n",
       "  4.109543800354004,\n",
       "  3.9218454360961914),\n",
       " 'test_time': (0.15654969215393066,\n",
       "  0.09375929832458496,\n",
       "  0.14062809944152832,\n",
       "  0.10741424560546875,\n",
       "  0.13289976119995117)}"
      ]
     },
     "execution_count": 8,
     "metadata": {},
     "output_type": "execute_result"
    }
   ],
   "source": [
    "algo_svd = SVD()\n",
    "cross_validate(algo_svd, data, measures=['RMSE', 'MAE'], cv=5, verbose=True)\n"
   ]
  },
  {
   "cell_type": "code",
   "execution_count": 9,
   "metadata": {},
   "outputs": [
    {
     "name": "stdout",
     "output_type": "stream",
     "text": [
      "Estimating biases using als...\n",
      "Estimating biases using als...\n",
      "Estimating biases using als...\n",
      "Estimating biases using als...\n",
      "Estimating biases using als...\n",
      "Evaluating RMSE, MAE of algorithm BaselineOnly on 5 split(s).\n",
      "\n",
      "                  Fold 1  Fold 2  Fold 3  Fold 4  Fold 5  Mean    Std     \n",
      "RMSE (testset)    0.9409  0.9451  0.9499  0.9460  0.9389  0.9442  0.0039  \n",
      "MAE (testset)     0.7467  0.7464  0.7542  0.7502  0.7448  0.7484  0.0034  \n",
      "Fit time          0.17    0.17    0.18    0.18    0.19    0.18    0.01    \n",
      "Test time         0.10    0.12    0.09    0.12    0.12    0.11    0.01    \n"
     ]
    },
    {
     "data": {
      "text/plain": [
       "{'test_rmse': array([0.94094744, 0.94511749, 0.94994985, 0.94596432, 0.93893994]),\n",
       " 'test_mae': array([0.74670396, 0.74635036, 0.75419819, 0.75016406, 0.74482091]),\n",
       " 'fit_time': (0.16956520080566406,\n",
       "  0.17186665534973145,\n",
       "  0.17920827865600586,\n",
       "  0.17531108856201172,\n",
       "  0.1885242462158203),\n",
       " 'test_time': (0.09622621536254883,\n",
       "  0.11867213249206543,\n",
       "  0.09369254112243652,\n",
       "  0.12425088882446289,\n",
       "  0.12166953086853027)}"
      ]
     },
     "execution_count": 9,
     "metadata": {},
     "output_type": "execute_result"
    }
   ],
   "source": [
    "algo_baseline = BaselineOnly()\n",
    "cross_validate(algo_baseline, data, measures=['RMSE', 'MAE'], cv=5, verbose=True)\n"
   ]
  },
  {
   "cell_type": "code",
   "execution_count": 6,
   "metadata": {},
   "outputs": [
    {
     "name": "stdout",
     "output_type": "stream",
     "text": [
      "Computing the msd similarity matrix...\n",
      "Done computing similarity matrix.\n",
      "Computing the msd similarity matrix...\n",
      "Done computing similarity matrix.\n",
      "Computing the msd similarity matrix...\n",
      "Done computing similarity matrix.\n",
      "Computing the msd similarity matrix...\n",
      "Done computing similarity matrix.\n",
      "Computing the msd similarity matrix...\n",
      "Done computing similarity matrix.\n",
      "Evaluating RMSE, MAE of algorithm KNNBasic on 5 split(s).\n",
      "\n",
      "                  Fold 1  Fold 2  Fold 3  Fold 4  Fold 5  Mean    Std     \n",
      "RMSE (testset)    0.9803  0.9798  0.9751  0.9815  0.9819  0.9797  0.0025  \n",
      "MAE (testset)     0.7752  0.7731  0.7682  0.7733  0.7777  0.7735  0.0031  \n",
      "Fit time          0.42    0.45    0.44    0.44    0.44    0.44    0.01    \n",
      "Test time         2.36    2.41    2.57    2.42    2.46    2.44    0.07    \n"
     ]
    },
    {
     "data": {
      "text/plain": [
       "{'test_rmse': array([0.980324  , 0.9797823 , 0.97506472, 0.98147298, 0.98194358]),\n",
       " 'test_mae': array([0.77516425, 0.77313485, 0.76823456, 0.7733035 , 0.77766496]),\n",
       " 'fit_time': (0.42458176612854004,\n",
       "  0.4544553756713867,\n",
       "  0.4429590702056885,\n",
       "  0.43923068046569824,\n",
       "  0.4439694881439209),\n",
       " 'test_time': (2.3582022190093994,\n",
       "  2.4075276851654053,\n",
       "  2.5653772354125977,\n",
       "  2.4163079261779785,\n",
       "  2.4567694664001465)}"
      ]
     },
     "execution_count": 6,
     "metadata": {},
     "output_type": "execute_result"
    }
   ],
   "source": [
    "algo_knnBasic = KNNBasic()\n",
    "cross_validate(algo_knnBasic, data, measures=['RMSE', 'MAE'], cv=5, verbose=True)\n"
   ]
  },
  {
   "cell_type": "code",
   "execution_count": 7,
   "metadata": {},
   "outputs": [
    {
     "name": "stdout",
     "output_type": "stream",
     "text": [
      "Computing the msd similarity matrix...\n",
      "Done computing similarity matrix.\n",
      "Computing the msd similarity matrix...\n",
      "Done computing similarity matrix.\n",
      "Computing the msd similarity matrix...\n",
      "Done computing similarity matrix.\n",
      "Computing the msd similarity matrix...\n",
      "Done computing similarity matrix.\n",
      "Computing the msd similarity matrix...\n",
      "Done computing similarity matrix.\n",
      "Evaluating RMSE, MAE of algorithm KNNWithMeans on 5 split(s).\n",
      "\n",
      "                  Fold 1  Fold 2  Fold 3  Fold 4  Fold 5  Mean    Std     \n",
      "RMSE (testset)    0.9464  0.9536  0.9549  0.9552  0.9461  0.9512  0.0041  \n",
      "MAE (testset)     0.7454  0.7502  0.7518  0.7515  0.7484  0.7495  0.0024  \n",
      "Fit time          0.46    0.48    0.45    0.47    0.48    0.47    0.01    \n",
      "Test time         2.55    2.66    2.67    2.63    2.75    2.65    0.07    \n"
     ]
    },
    {
     "data": {
      "text/plain": [
       "{'test_rmse': array([0.94641549, 0.95357429, 0.95491936, 0.95515228, 0.9461188 ]),\n",
       " 'test_mae': array([0.74541081, 0.75022466, 0.75179247, 0.75151819, 0.74840548]),\n",
       " 'fit_time': (0.4589695930480957,\n",
       "  0.4752504825592041,\n",
       "  0.4480266571044922,\n",
       "  0.46721792221069336,\n",
       "  0.4772350788116455),\n",
       " 'test_time': (2.549795150756836,\n",
       "  2.6559245586395264,\n",
       "  2.6745307445526123,\n",
       "  2.63413667678833,\n",
       "  2.7545435428619385)}"
      ]
     },
     "execution_count": 7,
     "metadata": {},
     "output_type": "execute_result"
    }
   ],
   "source": [
    "algo_knnMean = KNNWithMeans()\n",
    "cross_validate(algo_knnMean, data, measures=['RMSE', 'MAE'], cv=5, verbose=True)\n"
   ]
  },
  {
   "cell_type": "code",
   "execution_count": 11,
   "metadata": {},
   "outputs": [
    {
     "name": "stdout",
     "output_type": "stream",
     "text": [
      "Estimating biases using als...\n",
      "Computing the msd similarity matrix...\n",
      "Done computing similarity matrix.\n",
      "Estimating biases using als...\n",
      "Computing the msd similarity matrix...\n",
      "Done computing similarity matrix.\n",
      "Estimating biases using als...\n",
      "Computing the msd similarity matrix...\n",
      "Done computing similarity matrix.\n",
      "Estimating biases using als...\n",
      "Computing the msd similarity matrix...\n",
      "Done computing similarity matrix.\n",
      "Estimating biases using als...\n",
      "Computing the msd similarity matrix...\n",
      "Done computing similarity matrix.\n",
      "Evaluating RMSE, MAE of algorithm KNNBaseline on 5 split(s).\n",
      "\n",
      "                  Fold 1  Fold 2  Fold 3  Fold 4  Fold 5  Mean    Std     \n",
      "RMSE (testset)    0.9280  0.9265  0.9307  0.9259  0.9364  0.9295  0.0038  \n",
      "MAE (testset)     0.7296  0.7286  0.7347  0.7312  0.7383  0.7325  0.0036  \n",
      "Fit time          0.60    0.60    0.59    0.58    0.65    0.60    0.02    \n",
      "Test time         2.84    2.79    2.80    3.05    2.95    2.89    0.10    \n"
     ]
    },
    {
     "data": {
      "text/plain": [
       "{'test_rmse': array([0.92801027, 0.92653198, 0.93066869, 0.9259042 , 0.93636734]),\n",
       " 'test_mae': array([0.72958796, 0.72858506, 0.73471378, 0.73121217, 0.73827961]),\n",
       " 'fit_time': (0.6046562194824219,\n",
       "  0.596646785736084,\n",
       "  0.5894970893859863,\n",
       "  0.5841240882873535,\n",
       "  0.6463744640350342),\n",
       " 'test_time': (2.8447000980377197,\n",
       "  2.786832332611084,\n",
       "  2.8022966384887695,\n",
       "  3.051459312438965,\n",
       "  2.9537384510040283)}"
      ]
     },
     "execution_count": 11,
     "metadata": {},
     "output_type": "execute_result"
    }
   ],
   "source": [
    "algo_knnMeanBaseline = KNNBaseline()\n",
    "cross_validate(algo_knnMeanBaseline, data, measures=['RMSE', 'MAE'], cv=5, verbose=True)\n"
   ]
  },
  {
   "cell_type": "code",
   "execution_count": 12,
   "metadata": {},
   "outputs": [
    {
     "name": "stdout",
     "output_type": "stream",
     "text": [
      "Evaluating RMSE, MAE of algorithm SVDpp on 5 split(s).\n",
      "\n",
      "                  Fold 1  Fold 2  Fold 3  Fold 4  Fold 5  Mean    Std     \n",
      "RMSE (testset)    0.9174  0.9266  0.9243  0.9211  0.9140  0.9207  0.0046  \n",
      "MAE (testset)     0.7192  0.7256  0.7237  0.7237  0.7182  0.7221  0.0028  \n",
      "Fit time          142.23  137.16  136.97  137.37  137.20  138.19  2.02    \n",
      "Test time         2.84    2.78    2.74    2.72    2.69    2.76    0.05    \n"
     ]
    },
    {
     "data": {
      "text/plain": [
       "{'test_rmse': array([0.91735599, 0.92663723, 0.92432078, 0.92107682, 0.91396707]),\n",
       " 'test_mae': array([0.71924921, 0.72555267, 0.72374747, 0.72371936, 0.71822124]),\n",
       " 'fit_time': (142.22628664970398,\n",
       "  137.16453647613525,\n",
       "  136.96610045433044,\n",
       "  137.37076473236084,\n",
       "  137.20184803009033),\n",
       " 'test_time': (2.8420398235321045,\n",
       "  2.7839174270629883,\n",
       "  2.7427947521209717,\n",
       "  2.7206926345825195,\n",
       "  2.68754506111145)}"
      ]
     },
     "execution_count": 12,
     "metadata": {},
     "output_type": "execute_result"
    }
   ],
   "source": [
    "algo_svdpp = SVDpp()\n",
    "cross_validate(algo_svdpp, data, measures=['RMSE', 'MAE'], cv=5, verbose=True)\n"
   ]
  },
  {
   "cell_type": "code",
   "execution_count": null,
   "metadata": {},
   "outputs": [],
   "source": []
  }
 ],
 "metadata": {
  "kernelspec": {
   "display_name": "Python 3",
   "language": "python",
   "name": "python3"
  },
  "language_info": {
   "codemirror_mode": {
    "name": "ipython",
    "version": 3
   },
   "file_extension": ".py",
   "mimetype": "text/x-python",
   "name": "python",
   "nbconvert_exporter": "python",
   "pygments_lexer": "ipython3",
   "version": "3.6.3"
  }
 },
 "nbformat": 4,
 "nbformat_minor": 2
}
